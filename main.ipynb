{
 "cells": [
  {
   "cell_type": "code",
   "execution_count": 1,
   "id": "e1f0e273",
   "metadata": {},
   "outputs": [],
   "source": [
    "import pybullet as p\n",
    "import pybullet_data as pd\n",
    "import os\n",
    "from dm_control import mjcf"
   ]
  },
  {
   "cell_type": "code",
   "execution_count": 2,
   "id": "09998d68",
   "metadata": {},
   "outputs": [],
   "source": [
    "p.connect(p.DIRECT)\n",
    "name_in = \"meshes/link_lab.obj\"\n",
    "name_out = \"link_lab_vhcad.obj\"\n",
    "name_log = \"log.txt\""
   ]
  },
  {
   "cell_type": "code",
   "execution_count": 3,
   "id": "9af17050",
   "metadata": {},
   "outputs": [],
   "source": [
    "p.vhacd(name_in, name_out, name_log, alpha=0.04,resolution=64000000 )"
   ]
  },
  {
   "cell_type": "code",
   "execution_count": null,
   "id": "907a40e3",
   "metadata": {},
   "outputs": [],
   "source": []
  }
 ],
 "metadata": {
  "kernelspec": {
   "display_name": "Python 3",
   "language": "python",
   "name": "python3"
  },
  "language_info": {
   "codemirror_mode": {
    "name": "ipython",
    "version": 3
   },
   "file_extension": ".py",
   "mimetype": "text/x-python",
   "name": "python",
   "nbconvert_exporter": "python",
   "pygments_lexer": "ipython3",
   "version": "3.6.13"
  }
 },
 "nbformat": 4,
 "nbformat_minor": 5
}

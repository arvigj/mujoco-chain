{
 "cells": [
  {
   "cell_type": "code",
   "execution_count": 1,
   "id": "e1f0e273",
   "metadata": {},
   "outputs": [],
   "source": [
    "import pybullet as p\n",
    "import pybullet_data as pd\n",
    "import os\n",
    "from dm_control import mjcf"
   ]
  },
  {
   "cell_type": "code",
   "execution_count": 4,
   "id": "09998d68",
   "metadata": {},
   "outputs": [],
   "source": [
    "p.connect(p.DIRECT)\n",
    "name_in = \"meshes/link_lab.obj\"\n",
    "name_out = \"link_lab_vhcad.obj\"\n",
    "name_log = \"log.txt\""
   ]
  },
  {
   "cell_type": "code",
   "execution_count": 8,
   "id": "9af17050",
   "metadata": {},
   "outputs": [],
   "source": [
    "p.vhacd(name_in, name_out, name_log, alpha=0.04,resolution=2000000 )"
   ]
  },
  {
   "cell_type": "code",
   "execution_count": null,
   "id": "907a40e3",
   "metadata": {},
   "outputs": [],
   "source": []
  },
  {
   "cell_type": "code",
   "execution_count": 51,
   "id": "7c944603",
   "metadata": {},
   "outputs": [],
   "source": [
    "def create_n_links(n, base_file='base.xml'):\n",
    "    # Parse from path\n",
    "    mjcf_model = mjcf.from_path(base_file)\n",
    "    even_link_quat = \"0.707107 0 0 0.707107\"\n",
    "    odd_link_quat = \"0 0 0 0\"\n",
    "    body = \"\"\n",
    "    ypos = n * .55 - 3.45\n",
    "    for i in range(n):\n",
    "        ypos -= .55\n",
    "        if i % 2 == 0:\n",
    "            body = mjcf_model.worldbody.add('body', name=\"body\" + str(i), pos=\"-0 0 \" + str(ypos), quat=even_link_quat)\n",
    "        else:\n",
    "            body = mjcf_model.worldbody.add('body', name=\"body\" + str(i), pos=\"-0 0 \" + str(ypos), quat=odd_link_quat)\n",
    "        body.add('geom', mesh='torus0', type='mesh')\n",
    "        body.add('geom', mesh='torus1', type='mesh')\n",
    "        body.add('geom', mesh='torus2', type='mesh')\n",
    "        body.add('geom', mesh='torus3', type='mesh')\n",
    "        body.add('geom', mesh='torus4', type='mesh')\n",
    "        body.add('geom', mesh='torus5', type='mesh')\n",
    "        body.add('geom', mesh='torus6', type='mesh')\n",
    "        body.add('geom', mesh='torus7', type='mesh')\n",
    "        body.add('geom', mesh='torus8', type='mesh')\n",
    "        body.add('geom', mesh='torus9', type='mesh')\n",
    "        body.add('geom', mesh='torus10', type='mesh')\n",
    "        body.add('geom', mesh='torus11', type='mesh')\n",
    "        body.add('geom', mesh='torus12', type='mesh')\n",
    "        if i == 0:\n",
    "            body.add('inertial', mass='0', pos=\"-0 0 \" + str(ypos))\n",
    "        else:\n",
    "            body.add('freejoint')\n",
    "    mjcf.export_with_assets(mjcf_model, 'xml', out_file_name='chain_' + str(n) + '.xml')"
   ]
  },
  {
   "cell_type": "code",
   "execution_count": 56,
   "id": "736650d4",
   "metadata": {},
   "outputs": [],
   "source": [
    "create_n_links(25)"
   ]
  },
  {
   "cell_type": "code",
   "execution_count": null,
   "id": "2da4da24",
   "metadata": {},
   "outputs": [],
   "source": []
  }
 ],
 "metadata": {
  "kernelspec": {
   "display_name": "Python 3",
   "language": "python",
   "name": "python3"
  },
  "language_info": {
   "codemirror_mode": {
    "name": "ipython",
    "version": 3
   },
   "file_extension": ".py",
   "mimetype": "text/x-python",
   "name": "python",
   "nbconvert_exporter": "python",
   "pygments_lexer": "ipython3",
   "version": "3.6.13"
  }
 },
 "nbformat": 4,
 "nbformat_minor": 5
}
